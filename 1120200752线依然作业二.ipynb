{
 "cells": [
  {
   "cell_type": "markdown",
   "metadata": {},
   "source": [
    "# Microsoft资讯推荐数据集"
   ]
  },
  {
   "cell_type": "markdown",
   "metadata": {},
   "source": [
    "## 1.数据获取与预处理"
   ]
  },
  {
   "cell_type": "code",
   "execution_count": 54,
   "metadata": {},
   "outputs": [
    {
     "name": "stderr",
     "output_type": "stream",
     "text": [
      "/opt/anaconda3/lib/python3.8/site-packages/ipykernel/ipkernel.py:287: DeprecationWarning: `should_run_async` will not call `transform_cell` automatically in the future. Please pass the result to `transformed_cell` argument and any exception that happen during thetransform in `preprocessing_exc_tuple` in IPython 7.17 and above.\n",
      "  and should_run_async(code)\n"
     ]
    }
   ],
   "source": [
    "import os\n",
    "import tempfile\n",
    "import shutil\n",
    "import urllib\n",
    "import zipfile\n",
    "import pandas as pd\n",
    "\n",
    "# Temporary folder for data we need during execution of this notebook (we'll clean up\n",
    "# at the end, we promise)\n",
    "temp_dir = os.path.join(tempfile.gettempdir(), 'mind')\n",
    "os.makedirs(temp_dir, exist_ok=True)\n",
    "\n",
    "# The dataset is split into training and validation set, each with a large and small version.\n",
    "# The format of the four files are the same.\n",
    "# For demonstration purpose, we will use small version validation set only.\n",
    "base_url = 'https://mind201910small.blob.core.windows.net/release'\n",
    "training_small_url = f'{base_url}/MINDsmall_train.zip'\n",
    "validation_small_url = f'{base_url}/MINDsmall_dev.zip'\n",
    "training_large_url = f'{base_url}/MINDlarge_train.zip'\n",
    "validation_large_url = f'{base_url}/MINDlarge_dev.zip'"
   ]
  },
  {
   "cell_type": "markdown",
   "metadata": {},
   "source": [
    "数据集下载"
   ]
  },
  {
   "cell_type": "code",
   "execution_count": 55,
   "metadata": {},
   "outputs": [
    {
     "name": "stderr",
     "output_type": "stream",
     "text": [
      "/opt/anaconda3/lib/python3.8/site-packages/ipykernel/ipkernel.py:287: DeprecationWarning: `should_run_async` will not call `transform_cell` automatically in the future. Please pass the result to `transformed_cell` argument and any exception that happen during thetransform in `preprocessing_exc_tuple` in IPython 7.17 and above.\n",
      "  and should_run_async(code)\n"
     ]
    }
   ],
   "source": [
    "def download_url(url,\n",
    "                 destination_filename=None,\n",
    "                 progress_updater=None,\n",
    "                 force_download=False,\n",
    "                 verbose=True):\n",
    "    \"\"\"\n",
    "    Download a URL to a temporary file\n",
    "    \"\"\"\n",
    "    if not verbose:\n",
    "        progress_updater = None\n",
    "    # This is not intended to guarantee uniqueness, we just know it happens to guarantee\n",
    "    # uniqueness for this application.\n",
    "    if destination_filename is None:\n",
    "        url_as_filename = url.replace('://', '_').replace('/', '_')\n",
    "        destination_filename = \\\n",
    "            os.path.join(temp_dir,url_as_filename)\n",
    "    if (not force_download) and (os.path.isfile(destination_filename)):\n",
    "        if verbose:\n",
    "            print('Bypassing download of already-downloaded file {}'.format(\n",
    "                os.path.basename(url)))\n",
    "        return destination_filename\n",
    "    if verbose:\n",
    "        print('Downloading file {} to {}'.format(os.path.basename(url),\n",
    "                                                 destination_filename),\n",
    "              end='')\n",
    "    urllib.request.urlretrieve(url, destination_filename, progress_updater)\n",
    "    assert (os.path.isfile(destination_filename))\n",
    "    nBytes = os.path.getsize(destination_filename)\n",
    "    if verbose:\n",
    "        print('...done, {} bytes.'.format(nBytes))\n",
    "    return destination_filename"
   ]
  },
  {
   "cell_type": "code",
   "execution_count": 56,
   "metadata": {},
   "outputs": [
    {
     "name": "stderr",
     "output_type": "stream",
     "text": [
      "/opt/anaconda3/lib/python3.8/site-packages/ipykernel/ipkernel.py:287: DeprecationWarning: `should_run_async` will not call `transform_cell` automatically in the future. Please pass the result to `transformed_cell` argument and any exception that happen during thetransform in `preprocessing_exc_tuple` in IPython 7.17 and above.\n",
      "  and should_run_async(code)\n"
     ]
    },
    {
     "name": "stdout",
     "output_type": "stream",
     "text": [
      "Bypassing download of already-downloaded file MINDsmall_dev.zip\n"
     ]
    },
    {
     "data": {
      "text/plain": [
       "['behaviors.tsv',\n",
       " 'news.tsv',\n",
       " 'https_mind201910small.blob.core.windows.net_release_MINDsmall_dev.zip',\n",
       " 'entity_embedding.vec',\n",
       " 'relation_embedding.vec']"
      ]
     },
     "execution_count": 56,
     "metadata": {},
     "output_type": "execute_result"
    }
   ],
   "source": [
    "# For demonstration purpose, we will use small version validation set only.\n",
    "# This file is about 30MB.\n",
    "zip_path = download_url(validation_small_url, verbose=True)\n",
    "with zipfile.ZipFile(zip_path, 'r') as zip_ref:\n",
    "    zip_ref.extractall(temp_dir)\n",
    "\n",
    "os.listdir(temp_dir)"
   ]
  },
  {
   "cell_type": "markdown",
   "metadata": {},
   "source": [
    "数据集格式展示"
   ]
  },
  {
   "cell_type": "code",
   "execution_count": 57,
   "metadata": {},
   "outputs": [
    {
     "name": "stderr",
     "output_type": "stream",
     "text": [
      "/opt/anaconda3/lib/python3.8/site-packages/ipykernel/ipkernel.py:287: DeprecationWarning: `should_run_async` will not call `transform_cell` automatically in the future. Please pass the result to `transformed_cell` argument and any exception that happen during thetransform in `preprocessing_exc_tuple` in IPython 7.17 and above.\n",
      "  and should_run_async(code)\n"
     ]
    },
    {
     "data": {
      "text/html": [
       "<div>\n",
       "<style scoped>\n",
       "    .dataframe tbody tr th:only-of-type {\n",
       "        vertical-align: middle;\n",
       "    }\n",
       "\n",
       "    .dataframe tbody tr th {\n",
       "        vertical-align: top;\n",
       "    }\n",
       "\n",
       "    .dataframe thead th {\n",
       "        text-align: right;\n",
       "    }\n",
       "</style>\n",
       "<table border=\"1\" class=\"dataframe\">\n",
       "  <thead>\n",
       "    <tr style=\"text-align: right;\">\n",
       "      <th></th>\n",
       "      <th>impression_id</th>\n",
       "      <th>user_id</th>\n",
       "      <th>time</th>\n",
       "      <th>history</th>\n",
       "      <th>impressions</th>\n",
       "    </tr>\n",
       "  </thead>\n",
       "  <tbody>\n",
       "    <tr>\n",
       "      <th>0</th>\n",
       "      <td>1</td>\n",
       "      <td>U80234</td>\n",
       "      <td>11/15/2019 12:37:50 PM</td>\n",
       "      <td>N55189 N46039 N51741 N53234 N11276 N264 N40716...</td>\n",
       "      <td>N28682-0 N48740-0 N31958-1 N34130-0 N6916-0 N5...</td>\n",
       "    </tr>\n",
       "    <tr>\n",
       "      <th>1</th>\n",
       "      <td>2</td>\n",
       "      <td>U60458</td>\n",
       "      <td>11/15/2019 7:11:50 AM</td>\n",
       "      <td>N58715 N32109 N51180 N33438 N54827 N28488 N611...</td>\n",
       "      <td>N20036-0 N23513-1 N32536-0 N46976-0 N35216-0 N...</td>\n",
       "    </tr>\n",
       "    <tr>\n",
       "      <th>2</th>\n",
       "      <td>3</td>\n",
       "      <td>U44190</td>\n",
       "      <td>11/15/2019 9:55:12 AM</td>\n",
       "      <td>N56253 N1150 N55189 N16233 N61704 N51706 N5303...</td>\n",
       "      <td>N36779-0 N62365-0 N58098-0 N5472-0 N13408-0 N5...</td>\n",
       "    </tr>\n",
       "    <tr>\n",
       "      <th>3</th>\n",
       "      <td>4</td>\n",
       "      <td>U87380</td>\n",
       "      <td>11/15/2019 3:12:46 PM</td>\n",
       "      <td>N63554 N49153 N28678 N23232 N43369 N58518 N444...</td>\n",
       "      <td>N6950-0 N60215-0 N6074-0 N11930-0 N6916-0 N248...</td>\n",
       "    </tr>\n",
       "    <tr>\n",
       "      <th>4</th>\n",
       "      <td>5</td>\n",
       "      <td>U9444</td>\n",
       "      <td>11/15/2019 8:25:46 AM</td>\n",
       "      <td>N51692 N18285 N26015 N22679 N55556</td>\n",
       "      <td>N5940-1 N23513-0 N49285-0 N23355-0 N19990-0 N3...</td>\n",
       "    </tr>\n",
       "    <tr>\n",
       "      <th>...</th>\n",
       "      <td>...</td>\n",
       "      <td>...</td>\n",
       "      <td>...</td>\n",
       "      <td>...</td>\n",
       "      <td>...</td>\n",
       "    </tr>\n",
       "    <tr>\n",
       "      <th>73147</th>\n",
       "      <td>73148</td>\n",
       "      <td>U77536</td>\n",
       "      <td>11/15/2019 8:40:16 PM</td>\n",
       "      <td>N28691 N8845 N58434 N37120 N22185 N60033 N4702...</td>\n",
       "      <td>N496-0 N35159-0 N59856-0 N13270-0 N47213-0 N26...</td>\n",
       "    </tr>\n",
       "    <tr>\n",
       "      <th>73148</th>\n",
       "      <td>73149</td>\n",
       "      <td>U56193</td>\n",
       "      <td>11/15/2019 1:11:26 PM</td>\n",
       "      <td>N4705 N58782 N53531 N46492 N26026 N28088 N3109...</td>\n",
       "      <td>N49285-0 N31958-0 N55237-0 N42844-0 N29862-0 N...</td>\n",
       "    </tr>\n",
       "    <tr>\n",
       "      <th>73149</th>\n",
       "      <td>73150</td>\n",
       "      <td>U16799</td>\n",
       "      <td>11/15/2019 3:37:06 PM</td>\n",
       "      <td>N40826 N42078 N15670 N15295 N64536 N46845 N52294</td>\n",
       "      <td>N7043-0 N512-0 N60215-1 N45057-0 N496-0 N37055...</td>\n",
       "    </tr>\n",
       "    <tr>\n",
       "      <th>73150</th>\n",
       "      <td>73151</td>\n",
       "      <td>U8786</td>\n",
       "      <td>11/15/2019 8:29:26 AM</td>\n",
       "      <td>N3046 N356 N20483 N46107 N44598 N18693 N8254 N...</td>\n",
       "      <td>N23692-0 N19990-0 N20187-0 N5940-0 N13408-0 N3...</td>\n",
       "    </tr>\n",
       "    <tr>\n",
       "      <th>73151</th>\n",
       "      <td>73152</td>\n",
       "      <td>U68182</td>\n",
       "      <td>11/15/2019 11:54:34 AM</td>\n",
       "      <td>N20297 N53568 N4690 N60608 N43709 N43123 N1885...</td>\n",
       "      <td>N29862-0 N5472-0 N21679-1 N6400-0 N53572-0 N50...</td>\n",
       "    </tr>\n",
       "  </tbody>\n",
       "</table>\n",
       "<p>73152 rows × 5 columns</p>\n",
       "</div>"
      ],
      "text/plain": [
       "       impression_id user_id                    time  \\\n",
       "0                  1  U80234  11/15/2019 12:37:50 PM   \n",
       "1                  2  U60458   11/15/2019 7:11:50 AM   \n",
       "2                  3  U44190   11/15/2019 9:55:12 AM   \n",
       "3                  4  U87380   11/15/2019 3:12:46 PM   \n",
       "4                  5   U9444   11/15/2019 8:25:46 AM   \n",
       "...              ...     ...                     ...   \n",
       "73147          73148  U77536   11/15/2019 8:40:16 PM   \n",
       "73148          73149  U56193   11/15/2019 1:11:26 PM   \n",
       "73149          73150  U16799   11/15/2019 3:37:06 PM   \n",
       "73150          73151   U8786   11/15/2019 8:29:26 AM   \n",
       "73151          73152  U68182  11/15/2019 11:54:34 AM   \n",
       "\n",
       "                                                 history  \\\n",
       "0      N55189 N46039 N51741 N53234 N11276 N264 N40716...   \n",
       "1      N58715 N32109 N51180 N33438 N54827 N28488 N611...   \n",
       "2      N56253 N1150 N55189 N16233 N61704 N51706 N5303...   \n",
       "3      N63554 N49153 N28678 N23232 N43369 N58518 N444...   \n",
       "4                     N51692 N18285 N26015 N22679 N55556   \n",
       "...                                                  ...   \n",
       "73147  N28691 N8845 N58434 N37120 N22185 N60033 N4702...   \n",
       "73148  N4705 N58782 N53531 N46492 N26026 N28088 N3109...   \n",
       "73149   N40826 N42078 N15670 N15295 N64536 N46845 N52294   \n",
       "73150  N3046 N356 N20483 N46107 N44598 N18693 N8254 N...   \n",
       "73151  N20297 N53568 N4690 N60608 N43709 N43123 N1885...   \n",
       "\n",
       "                                             impressions  \n",
       "0      N28682-0 N48740-0 N31958-1 N34130-0 N6916-0 N5...  \n",
       "1      N20036-0 N23513-1 N32536-0 N46976-0 N35216-0 N...  \n",
       "2      N36779-0 N62365-0 N58098-0 N5472-0 N13408-0 N5...  \n",
       "3      N6950-0 N60215-0 N6074-0 N11930-0 N6916-0 N248...  \n",
       "4      N5940-1 N23513-0 N49285-0 N23355-0 N19990-0 N3...  \n",
       "...                                                  ...  \n",
       "73147  N496-0 N35159-0 N59856-0 N13270-0 N47213-0 N26...  \n",
       "73148  N49285-0 N31958-0 N55237-0 N42844-0 N29862-0 N...  \n",
       "73149  N7043-0 N512-0 N60215-1 N45057-0 N496-0 N37055...  \n",
       "73150  N23692-0 N19990-0 N20187-0 N5940-0 N13408-0 N3...  \n",
       "73151  N29862-0 N5472-0 N21679-1 N6400-0 N53572-0 N50...  \n",
       "\n",
       "[73152 rows x 5 columns]"
      ]
     },
     "execution_count": 57,
     "metadata": {},
     "output_type": "execute_result"
    }
   ],
   "source": [
    "# The behaviors.tsv file contains the impression logs and users' news click histories. \n",
    "# It has 5 columns divided by the tab symbol:\n",
    "# - Impression ID. The ID of an impression.\n",
    "# - User ID. The anonymous ID of a user.\n",
    "# - Time. The impression time with format \"MM/DD/YYYY HH:MM:SS AM/PM\".\n",
    "# - History. The news click history (ID list of clicked news) of this user before this impression.\n",
    "# - Impressions. List of news displayed in this impression and user's click behaviors on them (1 for click and 0 for non-click).\n",
    "behaviors_path = os.path.join(temp_dir, 'behaviors.tsv')\n",
    "behaviors_df = pd.read_table(\n",
    "    behaviors_path,\n",
    "    header=None,\n",
    "    names=['impression_id', 'user_id', 'time', 'history', 'impressions'])\n",
    "behaviors_df"
   ]
  },
  {
   "cell_type": "code",
   "execution_count": 58,
   "metadata": {},
   "outputs": [
    {
     "name": "stderr",
     "output_type": "stream",
     "text": [
      "/opt/anaconda3/lib/python3.8/site-packages/ipykernel/ipkernel.py:287: DeprecationWarning: `should_run_async` will not call `transform_cell` automatically in the future. Please pass the result to `transformed_cell` argument and any exception that happen during thetransform in `preprocessing_exc_tuple` in IPython 7.17 and above.\n",
      "  and should_run_async(code)\n"
     ]
    },
    {
     "data": {
      "text/html": [
       "<div>\n",
       "<style scoped>\n",
       "    .dataframe tbody tr th:only-of-type {\n",
       "        vertical-align: middle;\n",
       "    }\n",
       "\n",
       "    .dataframe tbody tr th {\n",
       "        vertical-align: top;\n",
       "    }\n",
       "\n",
       "    .dataframe thead th {\n",
       "        text-align: right;\n",
       "    }\n",
       "</style>\n",
       "<table border=\"1\" class=\"dataframe\">\n",
       "  <thead>\n",
       "    <tr style=\"text-align: right;\">\n",
       "      <th></th>\n",
       "      <th>id</th>\n",
       "      <th>category</th>\n",
       "      <th>subcategory</th>\n",
       "      <th>title</th>\n",
       "      <th>abstract</th>\n",
       "      <th>url</th>\n",
       "      <th>title_entities</th>\n",
       "      <th>abstract_entities</th>\n",
       "    </tr>\n",
       "  </thead>\n",
       "  <tbody>\n",
       "    <tr>\n",
       "      <th>0</th>\n",
       "      <td>N55528</td>\n",
       "      <td>lifestyle</td>\n",
       "      <td>lifestyleroyals</td>\n",
       "      <td>The Brands Queen Elizabeth, Prince Charles, an...</td>\n",
       "      <td>Shop the notebooks, jackets, and more that the...</td>\n",
       "      <td>https://assets.msn.com/labs/mind/AAGH0ET.html</td>\n",
       "      <td>[{\"Label\": \"Prince Philip, Duke of Edinburgh\",...</td>\n",
       "      <td>[]</td>\n",
       "    </tr>\n",
       "    <tr>\n",
       "      <th>1</th>\n",
       "      <td>N18955</td>\n",
       "      <td>health</td>\n",
       "      <td>medical</td>\n",
       "      <td>Dispose of unwanted prescription drugs during ...</td>\n",
       "      <td>NaN</td>\n",
       "      <td>https://assets.msn.com/labs/mind/AAISxPN.html</td>\n",
       "      <td>[{\"Label\": \"Drug Enforcement Administration\", ...</td>\n",
       "      <td>[]</td>\n",
       "    </tr>\n",
       "    <tr>\n",
       "      <th>2</th>\n",
       "      <td>N61837</td>\n",
       "      <td>news</td>\n",
       "      <td>newsworld</td>\n",
       "      <td>The Cost of Trump's Aid Freeze in the Trenches...</td>\n",
       "      <td>Lt. Ivan Molchanets peeked over a parapet of s...</td>\n",
       "      <td>https://assets.msn.com/labs/mind/AAJgNsz.html</td>\n",
       "      <td>[]</td>\n",
       "      <td>[{\"Label\": \"Ukraine\", \"Type\": \"G\", \"WikidataId...</td>\n",
       "    </tr>\n",
       "    <tr>\n",
       "      <th>3</th>\n",
       "      <td>N53526</td>\n",
       "      <td>health</td>\n",
       "      <td>voices</td>\n",
       "      <td>I Was An NBA Wife. Here's How It Affected My M...</td>\n",
       "      <td>I felt like I was a fraud, and being an NBA wi...</td>\n",
       "      <td>https://assets.msn.com/labs/mind/AACk2N6.html</td>\n",
       "      <td>[]</td>\n",
       "      <td>[{\"Label\": \"National Basketball Association\", ...</td>\n",
       "    </tr>\n",
       "    <tr>\n",
       "      <th>4</th>\n",
       "      <td>N38324</td>\n",
       "      <td>health</td>\n",
       "      <td>medical</td>\n",
       "      <td>How to Get Rid of Skin Tags, According to a De...</td>\n",
       "      <td>They seem harmless, but there's a very good re...</td>\n",
       "      <td>https://assets.msn.com/labs/mind/AAAKEkt.html</td>\n",
       "      <td>[{\"Label\": \"Skin tag\", \"Type\": \"C\", \"WikidataI...</td>\n",
       "      <td>[{\"Label\": \"Skin tag\", \"Type\": \"C\", \"WikidataI...</td>\n",
       "    </tr>\n",
       "    <tr>\n",
       "      <th>...</th>\n",
       "      <td>...</td>\n",
       "      <td>...</td>\n",
       "      <td>...</td>\n",
       "      <td>...</td>\n",
       "      <td>...</td>\n",
       "      <td>...</td>\n",
       "      <td>...</td>\n",
       "      <td>...</td>\n",
       "    </tr>\n",
       "    <tr>\n",
       "      <th>42411</th>\n",
       "      <td>N63550</td>\n",
       "      <td>lifestyle</td>\n",
       "      <td>lifestyleroyals</td>\n",
       "      <td>Why Kate &amp; Meghan Were on Different Balconies ...</td>\n",
       "      <td>There's no scandal here. It's all about the or...</td>\n",
       "      <td>https://assets.msn.com/labs/mind/BBWyynu.html</td>\n",
       "      <td>[{\"Label\": \"Meghan, Duchess of Sussex\", \"Type\"...</td>\n",
       "      <td>[]</td>\n",
       "    </tr>\n",
       "    <tr>\n",
       "      <th>42412</th>\n",
       "      <td>N30345</td>\n",
       "      <td>entertainment</td>\n",
       "      <td>entertainment-celebrity</td>\n",
       "      <td>See the stars at the 2019 Baby2Baby gala</td>\n",
       "      <td>Stars like Chrissy Teigen and Kate Hudson supp...</td>\n",
       "      <td>https://assets.msn.com/labs/mind/BBWyz7N.html</td>\n",
       "      <td>[]</td>\n",
       "      <td>[{\"Label\": \"Kate Hudson\", \"Type\": \"P\", \"Wikida...</td>\n",
       "    </tr>\n",
       "    <tr>\n",
       "      <th>42413</th>\n",
       "      <td>N30135</td>\n",
       "      <td>news</td>\n",
       "      <td>newsgoodnews</td>\n",
       "      <td>Tennessee judge holds lawyer's baby as he swea...</td>\n",
       "      <td>Tennessee Court of Appeals Judge Richard Dinki...</td>\n",
       "      <td>https://assets.msn.com/labs/mind/BBWyzI8.html</td>\n",
       "      <td>[{\"Label\": \"Tennessee\", \"Type\": \"G\", \"Wikidata...</td>\n",
       "      <td>[{\"Label\": \"Tennessee Court of Appeals\", \"Type...</td>\n",
       "    </tr>\n",
       "    <tr>\n",
       "      <th>42414</th>\n",
       "      <td>N44276</td>\n",
       "      <td>autos</td>\n",
       "      <td>autossports</td>\n",
       "      <td>Best Sports Car Deals for October</td>\n",
       "      <td>NaN</td>\n",
       "      <td>https://assets.msn.com/labs/mind/BBy5rVe.html</td>\n",
       "      <td>[{\"Label\": \"Peugeot RCZ\", \"Type\": \"V\", \"Wikida...</td>\n",
       "      <td>[]</td>\n",
       "    </tr>\n",
       "    <tr>\n",
       "      <th>42415</th>\n",
       "      <td>N39563</td>\n",
       "      <td>sports</td>\n",
       "      <td>more_sports</td>\n",
       "      <td>Shall we dance: Sports stars shake their leg</td>\n",
       "      <td>NaN</td>\n",
       "      <td>https://assets.msn.com/labs/mind/BBzMpnG.html</td>\n",
       "      <td>[]</td>\n",
       "      <td>[]</td>\n",
       "    </tr>\n",
       "  </tbody>\n",
       "</table>\n",
       "<p>42416 rows × 8 columns</p>\n",
       "</div>"
      ],
      "text/plain": [
       "           id       category              subcategory  \\\n",
       "0      N55528      lifestyle          lifestyleroyals   \n",
       "1      N18955         health                  medical   \n",
       "2      N61837           news                newsworld   \n",
       "3      N53526         health                   voices   \n",
       "4      N38324         health                  medical   \n",
       "...       ...            ...                      ...   \n",
       "42411  N63550      lifestyle          lifestyleroyals   \n",
       "42412  N30345  entertainment  entertainment-celebrity   \n",
       "42413  N30135           news             newsgoodnews   \n",
       "42414  N44276          autos              autossports   \n",
       "42415  N39563         sports              more_sports   \n",
       "\n",
       "                                                   title  \\\n",
       "0      The Brands Queen Elizabeth, Prince Charles, an...   \n",
       "1      Dispose of unwanted prescription drugs during ...   \n",
       "2      The Cost of Trump's Aid Freeze in the Trenches...   \n",
       "3      I Was An NBA Wife. Here's How It Affected My M...   \n",
       "4      How to Get Rid of Skin Tags, According to a De...   \n",
       "...                                                  ...   \n",
       "42411  Why Kate & Meghan Were on Different Balconies ...   \n",
       "42412           See the stars at the 2019 Baby2Baby gala   \n",
       "42413  Tennessee judge holds lawyer's baby as he swea...   \n",
       "42414                  Best Sports Car Deals for October   \n",
       "42415       Shall we dance: Sports stars shake their leg   \n",
       "\n",
       "                                                abstract  \\\n",
       "0      Shop the notebooks, jackets, and more that the...   \n",
       "1                                                    NaN   \n",
       "2      Lt. Ivan Molchanets peeked over a parapet of s...   \n",
       "3      I felt like I was a fraud, and being an NBA wi...   \n",
       "4      They seem harmless, but there's a very good re...   \n",
       "...                                                  ...   \n",
       "42411  There's no scandal here. It's all about the or...   \n",
       "42412  Stars like Chrissy Teigen and Kate Hudson supp...   \n",
       "42413  Tennessee Court of Appeals Judge Richard Dinki...   \n",
       "42414                                                NaN   \n",
       "42415                                                NaN   \n",
       "\n",
       "                                                 url  \\\n",
       "0      https://assets.msn.com/labs/mind/AAGH0ET.html   \n",
       "1      https://assets.msn.com/labs/mind/AAISxPN.html   \n",
       "2      https://assets.msn.com/labs/mind/AAJgNsz.html   \n",
       "3      https://assets.msn.com/labs/mind/AACk2N6.html   \n",
       "4      https://assets.msn.com/labs/mind/AAAKEkt.html   \n",
       "...                                              ...   \n",
       "42411  https://assets.msn.com/labs/mind/BBWyynu.html   \n",
       "42412  https://assets.msn.com/labs/mind/BBWyz7N.html   \n",
       "42413  https://assets.msn.com/labs/mind/BBWyzI8.html   \n",
       "42414  https://assets.msn.com/labs/mind/BBy5rVe.html   \n",
       "42415  https://assets.msn.com/labs/mind/BBzMpnG.html   \n",
       "\n",
       "                                          title_entities  \\\n",
       "0      [{\"Label\": \"Prince Philip, Duke of Edinburgh\",...   \n",
       "1      [{\"Label\": \"Drug Enforcement Administration\", ...   \n",
       "2                                                     []   \n",
       "3                                                     []   \n",
       "4      [{\"Label\": \"Skin tag\", \"Type\": \"C\", \"WikidataI...   \n",
       "...                                                  ...   \n",
       "42411  [{\"Label\": \"Meghan, Duchess of Sussex\", \"Type\"...   \n",
       "42412                                                 []   \n",
       "42413  [{\"Label\": \"Tennessee\", \"Type\": \"G\", \"Wikidata...   \n",
       "42414  [{\"Label\": \"Peugeot RCZ\", \"Type\": \"V\", \"Wikida...   \n",
       "42415                                                 []   \n",
       "\n",
       "                                       abstract_entities  \n",
       "0                                                     []  \n",
       "1                                                     []  \n",
       "2      [{\"Label\": \"Ukraine\", \"Type\": \"G\", \"WikidataId...  \n",
       "3      [{\"Label\": \"National Basketball Association\", ...  \n",
       "4      [{\"Label\": \"Skin tag\", \"Type\": \"C\", \"WikidataI...  \n",
       "...                                                  ...  \n",
       "42411                                                 []  \n",
       "42412  [{\"Label\": \"Kate Hudson\", \"Type\": \"P\", \"Wikida...  \n",
       "42413  [{\"Label\": \"Tennessee Court of Appeals\", \"Type...  \n",
       "42414                                                 []  \n",
       "42415                                                 []  \n",
       "\n",
       "[42416 rows x 8 columns]"
      ]
     },
     "execution_count": 58,
     "metadata": {},
     "output_type": "execute_result"
    }
   ],
   "source": [
    "# The news.tsv file contains the detailed information of news articles involved in the behaviors.tsv file.\n",
    "# It has 7 columns, which are divided by the tab symbol:\n",
    "# - News ID\n",
    "# - Category\n",
    "# - Subcategory\n",
    "# - Title\n",
    "# - Abstract\n",
    "# - URL\n",
    "# - Title Entities (entities contained in the title of this news)\n",
    "# - Abstract Entities (entities contained in the abstract of this news)\n",
    "news_path = os.path.join(temp_dir, 'news.tsv')\n",
    "news_df = pd.read_table(news_path,\n",
    "              header=None,\n",
    "              names=[\n",
    "                  'id', 'category', 'subcategory', 'title', 'abstract', 'url',\n",
    "                  'title_entities', 'abstract_entities'\n",
    "              ])\n",
    "news_df"
   ]
  },
  {
   "cell_type": "code",
   "execution_count": 59,
   "metadata": {},
   "outputs": [
    {
     "name": "stderr",
     "output_type": "stream",
     "text": [
      "/opt/anaconda3/lib/python3.8/site-packages/ipykernel/ipkernel.py:287: DeprecationWarning: `should_run_async` will not call `transform_cell` automatically in the future. Please pass the result to `transformed_cell` argument and any exception that happen during thetransform in `preprocessing_exc_tuple` in IPython 7.17 and above.\n",
      "  and should_run_async(code)\n"
     ]
    },
    {
     "data": {
      "text/html": [
       "<div>\n",
       "<style scoped>\n",
       "    .dataframe tbody tr th:only-of-type {\n",
       "        vertical-align: middle;\n",
       "    }\n",
       "\n",
       "    .dataframe tbody tr th {\n",
       "        vertical-align: top;\n",
       "    }\n",
       "\n",
       "    .dataframe thead th {\n",
       "        text-align: right;\n",
       "    }\n",
       "</style>\n",
       "<table border=\"1\" class=\"dataframe\">\n",
       "  <thead>\n",
       "    <tr style=\"text-align: right;\">\n",
       "      <th></th>\n",
       "      <th>entity</th>\n",
       "      <th>vector</th>\n",
       "    </tr>\n",
       "  </thead>\n",
       "  <tbody>\n",
       "    <tr>\n",
       "      <th>0</th>\n",
       "      <td>Q34433</td>\n",
       "      <td>[0.017808, -0.073256, 0.102521, -0.059926, -0....</td>\n",
       "    </tr>\n",
       "    <tr>\n",
       "      <th>1</th>\n",
       "      <td>Q41</td>\n",
       "      <td>[-0.063388, -0.181451, 0.057501, -0.091254, -0...</td>\n",
       "    </tr>\n",
       "    <tr>\n",
       "      <th>2</th>\n",
       "      <td>Q56037</td>\n",
       "      <td>[0.02155, -0.044888, -0.027872, -0.128843, 0.0...</td>\n",
       "    </tr>\n",
       "    <tr>\n",
       "      <th>3</th>\n",
       "      <td>Q1860</td>\n",
       "      <td>[0.060958, 0.069934, 0.015832, 0.079471, -0.02...</td>\n",
       "    </tr>\n",
       "    <tr>\n",
       "      <th>4</th>\n",
       "      <td>Q39631</td>\n",
       "      <td>[-0.093106, -0.052002, 0.020556, -0.020801, 0....</td>\n",
       "    </tr>\n",
       "    <tr>\n",
       "      <th>...</th>\n",
       "      <td>...</td>\n",
       "      <td>...</td>\n",
       "    </tr>\n",
       "    <tr>\n",
       "      <th>22888</th>\n",
       "      <td>Q278846</td>\n",
       "      <td>[0.042413, 0.021957, 0.072414, -0.068437, 0.02...</td>\n",
       "    </tr>\n",
       "    <tr>\n",
       "      <th>22889</th>\n",
       "      <td>Q54621949</td>\n",
       "      <td>[-0.018299, -0.048378, -0.021645, -0.079743, 0...</td>\n",
       "    </tr>\n",
       "    <tr>\n",
       "      <th>22890</th>\n",
       "      <td>Q42225228</td>\n",
       "      <td>[-0.051346, -0.028947, -0.07587, 0.017512, -0....</td>\n",
       "    </tr>\n",
       "    <tr>\n",
       "      <th>22891</th>\n",
       "      <td>Q54862508</td>\n",
       "      <td>[-0.052323, -0.078029, -0.060925, -0.052536, 0...</td>\n",
       "    </tr>\n",
       "    <tr>\n",
       "      <th>22892</th>\n",
       "      <td>Q42301562</td>\n",
       "      <td>[-0.00519, -0.047871, 0.009753, -0.0215, -4.9e...</td>\n",
       "    </tr>\n",
       "  </tbody>\n",
       "</table>\n",
       "<p>22893 rows × 2 columns</p>\n",
       "</div>"
      ],
      "text/plain": [
       "          entity                                             vector\n",
       "0         Q34433  [0.017808, -0.073256, 0.102521, -0.059926, -0....\n",
       "1            Q41  [-0.063388, -0.181451, 0.057501, -0.091254, -0...\n",
       "2         Q56037  [0.02155, -0.044888, -0.027872, -0.128843, 0.0...\n",
       "3          Q1860  [0.060958, 0.069934, 0.015832, 0.079471, -0.02...\n",
       "4         Q39631  [-0.093106, -0.052002, 0.020556, -0.020801, 0....\n",
       "...          ...                                                ...\n",
       "22888    Q278846  [0.042413, 0.021957, 0.072414, -0.068437, 0.02...\n",
       "22889  Q54621949  [-0.018299, -0.048378, -0.021645, -0.079743, 0...\n",
       "22890  Q42225228  [-0.051346, -0.028947, -0.07587, 0.017512, -0....\n",
       "22891  Q54862508  [-0.052323, -0.078029, -0.060925, -0.052536, 0...\n",
       "22892  Q42301562  [-0.00519, -0.047871, 0.009753, -0.0215, -4.9e...\n",
       "\n",
       "[22893 rows x 2 columns]"
      ]
     },
     "execution_count": 59,
     "metadata": {},
     "output_type": "execute_result"
    }
   ],
   "source": [
    "# The entity_embedding.vec file contains the 100-dimensional embeddings\n",
    "# of the entities learned from the subgraph by TransE method.\n",
    "# The first column is the ID of entity, and the other columns are the embedding vector values.\n",
    "entity_embedding_path = os.path.join(temp_dir, 'entity_embedding.vec')\n",
    "entity_embedding = pd.read_table(entity_embedding_path, header=None)\n",
    "entity_embedding['vector'] = entity_embedding.iloc[:, 1:101].values.tolist()\n",
    "entity_embedding = entity_embedding[[0,\n",
    "                                     'vector']].rename(columns={0: \"entity\"})\n",
    "entity_embedding"
   ]
  },
  {
   "cell_type": "code",
   "execution_count": 60,
   "metadata": {},
   "outputs": [
    {
     "name": "stderr",
     "output_type": "stream",
     "text": [
      "/opt/anaconda3/lib/python3.8/site-packages/ipykernel/ipkernel.py:287: DeprecationWarning: `should_run_async` will not call `transform_cell` automatically in the future. Please pass the result to `transformed_cell` argument and any exception that happen during thetransform in `preprocessing_exc_tuple` in IPython 7.17 and above.\n",
      "  and should_run_async(code)\n"
     ]
    },
    {
     "data": {
      "text/html": [
       "<div>\n",
       "<style scoped>\n",
       "    .dataframe tbody tr th:only-of-type {\n",
       "        vertical-align: middle;\n",
       "    }\n",
       "\n",
       "    .dataframe tbody tr th {\n",
       "        vertical-align: top;\n",
       "    }\n",
       "\n",
       "    .dataframe thead th {\n",
       "        text-align: right;\n",
       "    }\n",
       "</style>\n",
       "<table border=\"1\" class=\"dataframe\">\n",
       "  <thead>\n",
       "    <tr style=\"text-align: right;\">\n",
       "      <th></th>\n",
       "      <th>relation</th>\n",
       "      <th>vector</th>\n",
       "    </tr>\n",
       "  </thead>\n",
       "  <tbody>\n",
       "    <tr>\n",
       "      <th>0</th>\n",
       "      <td>P31</td>\n",
       "      <td>[-0.073467, -0.132227, 0.034173, -0.032769, 0....</td>\n",
       "    </tr>\n",
       "    <tr>\n",
       "      <th>1</th>\n",
       "      <td>P21</td>\n",
       "      <td>[-0.078436, 0.108589, -0.049429, -0.131355, 0....</td>\n",
       "    </tr>\n",
       "    <tr>\n",
       "      <th>2</th>\n",
       "      <td>P106</td>\n",
       "      <td>[-0.052137, 0.052444, -0.019886, -0.152309, 0....</td>\n",
       "    </tr>\n",
       "    <tr>\n",
       "      <th>3</th>\n",
       "      <td>P735</td>\n",
       "      <td>[-0.051398, 0.056219, 0.068029, -0.137717, -0....</td>\n",
       "    </tr>\n",
       "    <tr>\n",
       "      <th>4</th>\n",
       "      <td>P108</td>\n",
       "      <td>[0.091231, 0.022526, 0.059349, -0.141853, 0.03...</td>\n",
       "    </tr>\n",
       "    <tr>\n",
       "      <th>...</th>\n",
       "      <td>...</td>\n",
       "      <td>...</td>\n",
       "    </tr>\n",
       "    <tr>\n",
       "      <th>1086</th>\n",
       "      <td>P1897</td>\n",
       "      <td>[-0.019021, 0.001183, -0.009602, -0.040833, -0...</td>\n",
       "    </tr>\n",
       "    <tr>\n",
       "      <th>1087</th>\n",
       "      <td>P3776</td>\n",
       "      <td>[-0.018365, 0.028526, -0.025934, 0.032296, -0....</td>\n",
       "    </tr>\n",
       "    <tr>\n",
       "      <th>1088</th>\n",
       "      <td>P1194</td>\n",
       "      <td>[-0.026819, 0.003231, -0.011298, -0.015206, 0....</td>\n",
       "    </tr>\n",
       "    <tr>\n",
       "      <th>1089</th>\n",
       "      <td>P2502</td>\n",
       "      <td>[0.003554, -0.041121, -0.010559, -0.037862, -0...</td>\n",
       "    </tr>\n",
       "    <tr>\n",
       "      <th>1090</th>\n",
       "      <td>P6977</td>\n",
       "      <td>[-0.023617, -0.021648, 0.009369, -0.021757, 0....</td>\n",
       "    </tr>\n",
       "  </tbody>\n",
       "</table>\n",
       "<p>1091 rows × 2 columns</p>\n",
       "</div>"
      ],
      "text/plain": [
       "     relation                                             vector\n",
       "0         P31  [-0.073467, -0.132227, 0.034173, -0.032769, 0....\n",
       "1         P21  [-0.078436, 0.108589, -0.049429, -0.131355, 0....\n",
       "2        P106  [-0.052137, 0.052444, -0.019886, -0.152309, 0....\n",
       "3        P735  [-0.051398, 0.056219, 0.068029, -0.137717, -0....\n",
       "4        P108  [0.091231, 0.022526, 0.059349, -0.141853, 0.03...\n",
       "...       ...                                                ...\n",
       "1086    P1897  [-0.019021, 0.001183, -0.009602, -0.040833, -0...\n",
       "1087    P3776  [-0.018365, 0.028526, -0.025934, 0.032296, -0....\n",
       "1088    P1194  [-0.026819, 0.003231, -0.011298, -0.015206, 0....\n",
       "1089    P2502  [0.003554, -0.041121, -0.010559, -0.037862, -0...\n",
       "1090    P6977  [-0.023617, -0.021648, 0.009369, -0.021757, 0....\n",
       "\n",
       "[1091 rows x 2 columns]"
      ]
     },
     "execution_count": 60,
     "metadata": {},
     "output_type": "execute_result"
    }
   ],
   "source": [
    "# The relation_embedding.vec file contains the 100-dimensional embeddings\n",
    "# of the relations learned from the subgraph by TransE method.\n",
    "# The first column is the ID of relation, and the other columns are the embedding vector values.\n",
    "relation_embedding_path = os.path.join(temp_dir, 'relation_embedding.vec')\n",
    "relation_embedding = pd.read_table(relation_embedding_path, header=None)\n",
    "relation_embedding['vector'] = relation_embedding.iloc[:,\n",
    "                                                       1:101].values.tolist()\n",
    "relation_embedding = relation_embedding[[0, 'vector'\n",
    "                                         ]].rename(columns={0: \"relation\"})\n",
    "relation_embedding"
   ]
  },
  {
   "cell_type": "markdown",
   "metadata": {},
   "source": [
    "## 2.频繁模式挖掘"
   ]
  },
  {
   "cell_type": "code",
   "execution_count": 61,
   "metadata": {},
   "outputs": [
    {
     "name": "stderr",
     "output_type": "stream",
     "text": [
      "/opt/anaconda3/lib/python3.8/site-packages/ipykernel/ipkernel.py:287: DeprecationWarning: `should_run_async` will not call `transform_cell` automatically in the future. Please pass the result to `transformed_cell` argument and any exception that happen during thetransform in `preprocessing_exc_tuple` in IPython 7.17 and above.\n",
      "  and should_run_async(code)\n"
     ]
    }
   ],
   "source": [
    "import pandas as pd\n",
    "from mlxtend.preprocessing import TransactionEncoder\n",
    "from mlxtend.frequent_patterns import apriori, association_rules\n",
    "import matplotlib.pyplot as plt"
   ]
  },
  {
   "cell_type": "markdown",
   "metadata": {},
   "source": [
    "数据预处理"
   ]
  },
  {
   "cell_type": "code",
   "execution_count": 62,
   "metadata": {},
   "outputs": [
    {
     "name": "stderr",
     "output_type": "stream",
     "text": [
      "/opt/anaconda3/lib/python3.8/site-packages/ipykernel/ipkernel.py:287: DeprecationWarning: `should_run_async` will not call `transform_cell` automatically in the future. Please pass the result to `transformed_cell` argument and any exception that happen during thetransform in `preprocessing_exc_tuple` in IPython 7.17 and above.\n",
      "  and should_run_async(code)\n"
     ]
    }
   ],
   "source": [
    "\n",
    "# 数据预处理\n",
    "\n",
    "# 示例：将时间列转换为 datetime 类型\n",
    "behaviors_df['time'] = pd.to_datetime(behaviors_df['time'])\n",
    "\n",
    "# 示例：将历史记录列中的新闻 ID 字符串转换为列表\n",
    "behaviors_df['history'] = behaviors_df['history'].apply(lambda x: str(x).split())\n",
    "\n",
    "# 示例：将映像列中的新闻 ID 和点击行为字符串转换为列表\n",
    "behaviors_df['impressions'] = behaviors_df['impressions'].apply(lambda x: [(i.split('-')[0], int(i.split('-')[1])) for i in x.split()])\n",
    "\n",
    "# 数据预处理完成\n"
   ]
  },
  {
   "cell_type": "markdown",
   "metadata": {},
   "source": [
    "频繁项集挖掘"
   ]
  },
  {
   "cell_type": "code",
   "execution_count": 63,
   "metadata": {},
   "outputs": [
    {
     "name": "stderr",
     "output_type": "stream",
     "text": [
      "/opt/anaconda3/lib/python3.8/site-packages/ipykernel/ipkernel.py:287: DeprecationWarning: `should_run_async` will not call `transform_cell` automatically in the future. Please pass the result to `transformed_cell` argument and any exception that happen during thetransform in `preprocessing_exc_tuple` in IPython 7.17 and above.\n",
      "  and should_run_async(code)\n"
     ]
    },
    {
     "name": "stdout",
     "output_type": "stream",
     "text": [
      "频繁项集：\n",
      "    support       itemsets\n",
      "0  0.441328  ((N11930, 0))\n",
      "1  0.414548  ((N20036, 0))\n",
      "2  0.410214  ((N30290, 0))\n",
      "3  0.536458  ((N31958, 0))\n",
      "4  0.430843  ((N36779, 0))\n",
      "5  0.413112  ((N53572, 0))\n",
      "6  0.487328   ((N5940, 0))\n",
      "7  0.480711   ((N6916, 0))\n"
     ]
    }
   ],
   "source": [
    "# 准备数据\n",
    "transactions = behaviors_df['impressions'].tolist()\n",
    "\n",
    "# 将数据转换为适合 Apriori 算法的格式\n",
    "te = TransactionEncoder()\n",
    "te_ary = te.fit(transactions).transform(transactions)\n",
    "df = pd.DataFrame(te_ary, columns=te.columns_)\n",
    "\n",
    "# 使用 Apriori 算法挖掘频繁项集\n",
    "frequent_itemsets = apriori(df, min_support=0.4, use_colnames=True)\n",
    "\n",
    "# 输出频繁项集\n",
    "print(\"频繁项集：\")\n",
    "print(frequent_itemsets)\n"
   ]
  },
  {
   "cell_type": "markdown",
   "metadata": {},
   "source": [
    "## 3.模式命名\n",
    "以上频繁项集挖掘反映了各条新闻点击率的信息，因此将模式名为“新闻点击模式”"
   ]
  },
  {
   "cell_type": "markdown",
   "metadata": {},
   "source": [
    "## 4.挖掘结果分析"
   ]
  },
  {
   "cell_type": "code",
   "execution_count": 64,
   "metadata": {},
   "outputs": [
    {
     "name": "stdout",
     "output_type": "stream",
     "text": [
      "新闻ID: N11930, 类别: movies, 子类别: movies-gallery, 支持度: 0.441327646544182\n",
      "标题: The most talked about movie moments of the 2010s\n",
      "摘要: Let's try to emphasize the positive, but there's one particular sequence that was so special in its awfulness, it had to go on this list. See if you can guess which one it is.\n",
      "\n",
      "新闻ID: N20036, 类别: lifestyle, 子类别: shop-holidays, 支持度: 0.41454779090113736\n",
      "标题: 30 Best Black Friday Deals from Costco\n",
      "摘要: Costco members love shopping at the warehouse store, and they'll love shopping there for holiday gifts just as much.\n",
      "\n",
      "新闻ID: N30290, 类别: foodanddrink, 子类别: restaurantsandnews, 支持度: 0.4102143482064742\n",
      "标题: The Real Reason McDonald's Keeps the Filet-O-Fish on Their Menu\n",
      "摘要: It's something of an underdog story.\n",
      "\n",
      "新闻ID: N31958, 类别: sports, 子类别: football_nfl, 支持度: 0.5364583333333334\n",
      "标题: Opinion: Colin Kaepernick is about to get what he deserves: a chance\n",
      "摘要: The end may be near for the 3-year-old saga of Colin Kaepernick as the quarterback is scheduled to work out for teams on Saturday.\n",
      "\n",
      "新闻ID: N36779, 类别: news, 子类别: newsus, 支持度: 0.4308426290463692\n",
      "标题: South Carolina teen gets life in prison for deadly elementary school shooting\n",
      "摘要: Jesse Osborne, the teenager responsible for a shooting at a South Carolina elementary school in 2016, was sentenced to life in prison.\n",
      "\n",
      "新闻ID: N53572, 类别: music, 子类别: musicnews, 支持度: 0.4131124234470691\n",
      "标题: Taylor Swift Rep Hits Back at Big Machine, Claims She's Actually Owed $7.9 Million in Unpaid Royalties\n",
      "摘要: Taylor Swift's team responds to Big Machine's denial.\n",
      "\n",
      "新闻ID: N5940, 类别: lifestyle, 子类别: lifestyleroyals, 支持度: 0.4873277559055118\n",
      "标题: Meghan Markle and Hillary Clinton Secretly Spent the Afternoon Together at Frogmore Cottage\n",
      "摘要: Meghan Markle Invites Hillary Clinton to Her Frogmore Cottage Home\n",
      "\n",
      "新闻ID: N6916, 类别: entertainment, 子类别: celebrity, 支持度: 0.4807113954505687\n",
      "标题: THEN AND NOW: What all your favorite '90s stars are doing today\n",
      "摘要: These heartthrobs and fan favorites made the 1990s one of the best decades of the century. Here's what they're up to now.\n",
      "\n"
     ]
    },
    {
     "name": "stderr",
     "output_type": "stream",
     "text": [
      "/opt/anaconda3/lib/python3.8/site-packages/ipykernel/ipkernel.py:287: DeprecationWarning: `should_run_async` will not call `transform_cell` automatically in the future. Please pass the result to `transformed_cell` argument and any exception that happen during thetransform in `preprocessing_exc_tuple` in IPython 7.17 and above.\n",
      "  and should_run_async(code)\n"
     ]
    }
   ],
   "source": [
    "def find_news_info(news_id):\n",
    "    news_info = news_df.loc[news_df['id'] == news_id]\n",
    "    if not news_info.empty:\n",
    "        category = news_info['category'].values[0]\n",
    "        subcategory = news_info['subcategory'].values[0]\n",
    "        title = news_info['title'].values[0]\n",
    "        abstract = news_info['abstract'].values[0]\n",
    "        return category, subcategory, title, abstract\n",
    "    else:\n",
    "        return None, None, None, None\n",
    "\n",
    "# 遍历频繁项集，查找新闻 ID 对应的类别等信息\n",
    "for index, row in frequent_itemsets.iterrows():\n",
    "    itemset = row['itemsets']\n",
    "    support = row['support']\n",
    "    news_ids = [item[0] for item in itemset]\n",
    "    for news_id in news_ids:\n",
    "        category, subcategory, title, abstract = find_news_info(news_id)\n",
    "        if category is not None:\n",
    "            print(f\"新闻ID: {news_id}, 类别: {category}, 子类别: {subcategory}, 支持度: {support}\")\n",
    "            print(f\"标题: {title}\")\n",
    "            print(f\"摘要: {abstract}\")\n",
    "            print()\n",
    "\n"
   ]
  },
  {
   "cell_type": "markdown",
   "metadata": {},
   "source": [
    "## 5.可视化展示"
   ]
  },
  {
   "cell_type": "code",
   "execution_count": 65,
   "metadata": {},
   "outputs": [
    {
     "name": "stderr",
     "output_type": "stream",
     "text": [
      "/opt/anaconda3/lib/python3.8/site-packages/ipykernel/ipkernel.py:287: DeprecationWarning: `should_run_async` will not call `transform_cell` automatically in the future. Please pass the result to `transformed_cell` argument and any exception that happen during thetransform in `preprocessing_exc_tuple` in IPython 7.17 and above.\n",
      "  and should_run_async(code)\n"
     ]
    },
    {
     "data": {
      "image/png": "[encoded data removed]",
      "text/plain": [
       "<Figure size 720x432 with 1 Axes>"
      ]
     },
     "metadata": {
      "needs_background": "light"
     },
     "output_type": "display_data"
    },
    {
     "name": "stderr",
     "output_type": "stream",
     "text": [
      "/opt/anaconda3/lib/python3.8/site-packages/wordcloud/wordcloud.py:522: DeprecationWarning: ROTATE_90 is deprecated and will be removed in Pillow 10 (2023-07-01). Use Transpose.ROTATE_90 instead.\n",
      "  orientation = (Image.ROTATE_90 if orientation is None else\n",
      "/opt/anaconda3/lib/python3.8/site-packages/wordcloud/wordcloud.py:522: DeprecationWarning: ROTATE_90 is deprecated and will be removed in Pillow 10 (2023-07-01). Use Transpose.ROTATE_90 instead.\n",
      "  orientation = (Image.ROTATE_90 if orientation is None else\n",
      "/opt/anaconda3/lib/python3.8/site-packages/wordcloud/wordcloud.py:522: DeprecationWarning: ROTATE_90 is deprecated and will be removed in Pillow 10 (2023-07-01). Use Transpose.ROTATE_90 instead.\n",
      "  orientation = (Image.ROTATE_90 if orientation is None else\n",
      "/opt/anaconda3/lib/python3.8/site-packages/wordcloud/wordcloud.py:522: DeprecationWarning: ROTATE_90 is deprecated and will be removed in Pillow 10 (2023-07-01). Use Transpose.ROTATE_90 instead.\n",
      "  orientation = (Image.ROTATE_90 if orientation is None else\n",
      "/opt/anaconda3/lib/python3.8/site-packages/wordcloud/wordcloud.py:522: DeprecationWarning: ROTATE_90 is deprecated and will be removed in Pillow 10 (2023-07-01). Use Transpose.ROTATE_90 instead.\n",
      "  orientation = (Image.ROTATE_90 if orientation is None else\n",
      "/opt/anaconda3/lib/python3.8/site-packages/wordcloud/wordcloud.py:522: DeprecationWarning: ROTATE_90 is deprecated and will be removed in Pillow 10 (2023-07-01). Use Transpose.ROTATE_90 instead.\n",
      "  orientation = (Image.ROTATE_90 if orientation is None else\n",
      "/opt/anaconda3/lib/python3.8/site-packages/wordcloud/wordcloud.py:522: DeprecationWarning: ROTATE_90 is deprecated and will be removed in Pillow 10 (2023-07-01). Use Transpose.ROTATE_90 instead.\n",
      "  orientation = (Image.ROTATE_90 if orientation is None else\n"
     ]
    },
    {
     "data": {
      "image/png": "[encoded data removed]",
      "text/plain": [
       "<Figure size 720x432 with 1 Axes>"
      ]
     },
     "metadata": {
      "needs_background": "light"
     },
     "output_type": "display_data"
    }
   ],
   "source": [
    "import matplotlib.pyplot as plt\n",
    "from wordcloud import WordCloud\n",
    "\n",
    "# 支持度分布图\n",
    "plt.figure(figsize=(10, 6))\n",
    "plt.hist(frequent_itemsets['support'], bins=20, color='skyblue', edgecolor='black')\n",
    "plt.xlabel('Support')\n",
    "plt.ylabel('Frequency')\n",
    "plt.title('Support Distribution of Frequent Itemsets')\n",
    "plt.grid(True)\n",
    "plt.show()\n",
    "\n",
    "# 频繁项集词云\n",
    "wordcloud_text = ' '.join([str(news_id) for itemset in frequent_itemsets['itemsets'] for news_id in itemset])\n",
    "wordcloud = WordCloud(width=800, height=400, background_color='white').generate(wordcloud_text)\n",
    "\n",
    "plt.figure(figsize=(10, 6))\n",
    "plt.imshow(wordcloud, interpolation='bilinear')\n",
    "plt.axis('off')\n",
    "plt.title('Word Cloud of Frequent Itemsets')\n",
    "plt.show()\n"
   ]
  },
  {
   "cell_type": "markdown",
   "metadata": {},
   "source": [
    "清理本地缓存"
   ]
  },
  {
   "cell_type": "code",
   "execution_count": 66,
   "metadata": {},
   "outputs": [
    {
     "name": "stderr",
     "output_type": "stream",
     "text": [
      "/opt/anaconda3/lib/python3.8/site-packages/ipykernel/ipkernel.py:287: DeprecationWarning: `should_run_async` will not call `transform_cell` automatically in the future. Please pass the result to `transformed_cell` argument and any exception that happen during thetransform in `preprocessing_exc_tuple` in IPython 7.17 and above.\n",
      "  and should_run_async(code)\n"
     ]
    }
   ],
   "source": [
    "shutil.rmtree(temp_dir)"
   ]
  },
  {
   "cell_type": "markdown",
   "metadata": {},
   "source": [
    "# SNAP：Bitcoin Alpha trust weighted signed network数据集"
   ]
  },
  {
   "cell_type": "markdown",
   "metadata": {},
   "source": [
    "## 1.数据获取与预处理"
   ]
  },
  {
   "cell_type": "code",
   "execution_count": 67,
   "metadata": {},
   "outputs": [
    {
     "name": "stdout",
     "output_type": "stream",
     "text": [
      "TIME\n",
      "1289192400                [2, 402, 10, 970, 10, 271, 113, 54]\n",
      "1289365200     [119, 2, 119, 54, 54, 119, 119, 471, 119, 271]\n",
      "1289451600                                          [168, 74]\n",
      "1289538000    [271, 2, 271, 54, 271, 113, 271, 119, 271, 471]\n",
      "1289624400                                 [474, 37, 37, 474]\n",
      "                                   ...                       \n",
      "1452747600                   [15, 3443, 15, 3448, 2336, 3449]\n",
      "1452834000                              [15, 2437, 104, 2437]\n",
      "1452920400        [906, 279, 281, 3450, 1202, 604, 604, 1202]\n",
      "1453006800                                        [114, 7370]\n",
      "1453438800                               [15, 3451, 3451, 98]\n",
      "Length: 1647, dtype: object\n"
     ]
    },
    {
     "name": "stderr",
     "output_type": "stream",
     "text": [
      "/opt/anaconda3/lib/python3.8/site-packages/ipykernel/ipkernel.py:287: DeprecationWarning: `should_run_async` will not call `transform_cell` automatically in the future. Please pass the result to `transformed_cell` argument and any exception that happen during thetransform in `preprocessing_exc_tuple` in IPython 7.17 and above.\n",
      "  and should_run_async(code)\n"
     ]
    }
   ],
   "source": [
    "import pandas as pd\n",
    "from mlxtend.frequent_patterns import apriori\n",
    "\n",
    "# 读取CSV文件\n",
    "data = pd.read_csv('soc-sign-bitcoinalpha.csv', names=['SOURCE', 'TARGET', 'RATING', 'TIME'])\n",
    "\n",
    "# 数据预处理（如果需要的话）\n",
    "# 这里可能需要进一步的预处理，比如处理缺失值、转换时间格式等\n",
    "\n",
    "# 将数据按时间进行分组，并将同一时间点下的所有节点关系合并为一个项集\n",
    "grouped_data = data.groupby('TIME')[['SOURCE', 'TARGET']].apply(lambda x: [node for pair in x.values for node in pair])\n",
    "print(grouped_data)\n"
   ]
  },
  {
   "cell_type": "markdown",
   "metadata": {},
   "source": [
    "## 2.频繁模式挖掘"
   ]
  },
  {
   "cell_type": "code",
   "execution_count": 68,
   "metadata": {},
   "outputs": [
    {
     "name": "stdout",
     "output_type": "stream",
     "text": [
      "     support  itemsets\n",
      "0   0.299939       (0)\n",
      "1   0.131148       (1)\n",
      "2   0.105647       (2)\n",
      "3   0.111111       (3)\n",
      "4   0.091682       (4)\n",
      "5   0.091075       (5)\n",
      "6   0.129326       (6)\n",
      "7   0.131755       (7)\n",
      "8   0.091075       (8)\n",
      "9   0.089253       (9)\n",
      "10  0.149970      (10)\n",
      "11  0.075896      (11)\n",
      "12  0.067395      (12)\n",
      "13  0.132362      (14)\n",
      "14  0.059502      (15)\n",
      "15  0.071038      (16)\n",
      "16  0.051609      (17)\n",
      "17  0.071645      (18)\n",
      "18  0.060109      (20)\n",
      "19  0.085003      (21)\n",
      "20  0.070431      (23)\n",
      "21  0.061931      (24)\n",
      "22  0.098361      (25)\n",
      "23  0.055252      (28)\n",
      "24  0.073467      (29)\n",
      "25  0.053430      (30)\n",
      "26  0.054645      (31)\n",
      "27  0.073467      (32)\n",
      "28  0.053430      (34)\n",
      "29  0.051609      (37)\n",
      "30  0.056466      (39)\n",
      "31  0.050395      (41)\n",
      "32  0.054645      (42)\n",
      "33  0.052823      (50)\n",
      "34  0.063752      (57)\n",
      "35  0.055859      (84)\n",
      "36  0.083789      (94)\n",
      "37  0.052823     (144)\n",
      "38  0.113540     (176)\n",
      "39  0.051609    (2335)\n",
      "40  0.050395    (3781)\n",
      "41  0.053430    (0, 2)\n",
      "42  0.054645    (0, 6)\n",
      "43  0.050395    (0, 7)\n",
      "44  0.058288   (0, 10)\n",
      "45  0.055859  (0, 176)\n"
     ]
    },
    {
     "name": "stderr",
     "output_type": "stream",
     "text": [
      "/opt/anaconda3/lib/python3.8/site-packages/ipykernel/ipkernel.py:287: DeprecationWarning: `should_run_async` will not call `transform_cell` automatically in the future. Please pass the result to `transformed_cell` argument and any exception that happen during thetransform in `preprocessing_exc_tuple` in IPython 7.17 and above.\n",
      "  and should_run_async(code)\n"
     ]
    }
   ],
   "source": [
    "# 编码为可处理格式\n",
    "te = TransactionEncoder()\n",
    "basket_encoded = te.fit(grouped_data).transform(grouped_data)\n",
    "basket_df = pd.DataFrame(basket_encoded, columns=te.columns_)\n",
    "\n",
    "# 使用Apriori算法挖掘频繁项集\n",
    "frequent_itemsets = apriori(basket_df, min_support=0.05)\n",
    "\n",
    "# 输出频繁项集\n",
    "print(frequent_itemsets)"
   ]
  },
  {
   "cell_type": "markdown",
   "metadata": {},
   "source": [
    "## 3.模式命名\n",
    "挖掘了在同一时间内，比特币信任网络节点的信息，因此将模式命名为“比特币信任网络节点”模式"
   ]
  },
  {
   "cell_type": "markdown",
   "metadata": {},
   "source": [
    "## 4.挖掘结果分析"
   ]
  },
  {
   "cell_type": "code",
   "execution_count": 70,
   "metadata": {},
   "outputs": [
    {
     "name": "stdout",
     "output_type": "stream",
     "text": [
      "     support  itemsets\n",
      "0   0.299939       (0)\n",
      "10  0.149970      (10)\n",
      "13  0.132362      (14)\n",
      "7   0.131755       (7)\n",
      "1   0.131148       (1)\n",
      "6   0.129326       (6)\n",
      "38  0.113540     (176)\n",
      "3   0.111111       (3)\n",
      "2   0.105647       (2)\n",
      "22  0.098361      (25)\n",
      "4   0.091682       (4)\n",
      "5   0.091075       (5)\n",
      "8   0.091075       (8)\n",
      "9   0.089253       (9)\n",
      "19  0.085003      (21)\n",
      "36  0.083789      (94)\n",
      "11  0.075896      (11)\n",
      "24  0.073467      (29)\n",
      "27  0.073467      (32)\n",
      "17  0.071645      (18)\n",
      "15  0.071038      (16)\n",
      "20  0.070431      (23)\n",
      "12  0.067395      (12)\n",
      "34  0.063752      (57)\n",
      "21  0.061931      (24)\n",
      "18  0.060109      (20)\n",
      "14  0.059502      (15)\n",
      "44  0.058288   (0, 10)\n",
      "30  0.056466      (39)\n",
      "35  0.055859      (84)\n",
      "45  0.055859  (0, 176)\n",
      "23  0.055252      (28)\n",
      "32  0.054645      (42)\n",
      "26  0.054645      (31)\n",
      "42  0.054645    (0, 6)\n",
      "28  0.053430      (34)\n",
      "25  0.053430      (30)\n",
      "41  0.053430    (0, 2)\n",
      "33  0.052823      (50)\n",
      "37  0.052823     (144)\n",
      "29  0.051609      (37)\n",
      "39  0.051609    (2335)\n",
      "16  0.051609      (17)\n",
      "31  0.050395      (41)\n",
      "40  0.050395    (3781)\n",
      "43  0.050395    (0, 7)\n"
     ]
    },
    {
     "name": "stderr",
     "output_type": "stream",
     "text": [
      "/opt/anaconda3/lib/python3.8/site-packages/ipykernel/ipkernel.py:287: DeprecationWarning: `should_run_async` will not call `transform_cell` automatically in the future. Please pass the result to `transformed_cell` argument and any exception that happen during thetransform in `preprocessing_exc_tuple` in IPython 7.17 and above.\n",
      "  and should_run_async(code)\n"
     ]
    }
   ],
   "source": [
    "# 按支持度降序排序，观察支持度较高的频繁项集中包含哪些节点以及节点组合\n",
    "df_sorted = frequent_itemsets.sort_values(by='support', ascending=False)\n",
    "print(df_sorted)"
   ]
  },
  {
   "cell_type": "markdown",
   "metadata": {},
   "source": [
    "## 5.可视化展示"
   ]
  },
  {
   "cell_type": "code",
   "execution_count": 69,
   "metadata": {},
   "outputs": [
    {
     "name": "stderr",
     "output_type": "stream",
     "text": [
      "/opt/anaconda3/lib/python3.8/site-packages/ipykernel/ipkernel.py:287: DeprecationWarning: `should_run_async` will not call `transform_cell` automatically in the future. Please pass the result to `transformed_cell` argument and any exception that happen during thetransform in `preprocessing_exc_tuple` in IPython 7.17 and above.\n",
      "  and should_run_async(code)\n"
     ]
    },
    {
     "data": {
      "image/png": "[encoded data removed]",
      "text/plain": [
       "<Figure size 720x432 with 1 Axes>"
      ]
     },
     "metadata": {
      "needs_background": "light"
     },
     "output_type": "display_data"
    }
   ],
   "source": [
    "plt.figure(figsize=(10,6))\n",
    "plt.bar(range(len(frequent_itemsets)), frequent_itemsets['support'], tick_label=frequent_itemsets['itemsets'].astype(str))\n",
    "plt.xticks(rotation=90)\n",
    "plt.xlabel('Itemsets')\n",
    "plt.ylabel('Support')\n",
    "plt.title('Support Distribution of Frequent Itemsets')\n",
    "plt.show()"
   ]
  }
 ],
 "metadata": {
  "kernelspec": {
   "display_name": "Python 3",
   "language": "python",
   "name": "python3"
  },
  "language_info": {
   "codemirror_mode": {
    "name": "ipython",
    "version": 3
   },
   "file_extension": ".py",
   "mimetype": "text/x-python",
   "name": "python",
   "nbconvert_exporter": "python",
   "pygments_lexer": "ipython3",
   "version": "3.8.8"
  }
 },
 "nbformat": 4,
 "nbformat_minor": 2
}
